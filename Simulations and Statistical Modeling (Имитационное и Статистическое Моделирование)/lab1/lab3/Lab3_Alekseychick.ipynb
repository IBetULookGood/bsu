{
 "cells": [
  {
   "attachments": {},
   "cell_type": "markdown",
   "metadata": {},
   "source": [
    "1) m = 0, $s^2$ = 9; $\\chi^2$\n",
    "-распределение с m степенями свободы ($\\chi^2_m$), m = 4. Стьюдента с m\n",
    "степенями свободы (${t}_m$), m = 6."
   ]
  },
  {
   "cell_type": "code",
   "execution_count": 49,
   "metadata": {},
   "outputs": [],
   "source": [
    "import matplotlib.pyplot as plt\n",
    "from scipy import stats\n",
    "import numpy as np\n",
    "%matplotlib inline\n",
    "\n",
    "def MCM(alpha_t, beta, M):\n",
    "    while True:\n",
    "        alpha_t = (alpha_t * beta) % M\n",
    "        yield alpha_t / M\n",
    "\n",
    "mcm_gen = MCM(131075, 131075, 2**31)\n",
    "\n",
    "M = 0\n",
    "S = 3\n",
    "df = 4\n",
    "m = 6\n",
    "N = 1000"
   ]
  },
  {
   "attachments": {},
   "cell_type": "markdown",
   "metadata": {},
   "source": [
    "Normal distribution"
   ]
  },
  {
   "cell_type": "code",
   "execution_count": 50,
   "metadata": {},
   "outputs": [
    {
     "name": "stdout",
     "output_type": "stream",
     "text": [
      "Sample mean: -0.0321984701017165\n",
      "Sample variance: 9.210191477299528\n",
      "Expected mean: 0\n",
      "Expected variance: 9\n"
     ]
    }
   ],
   "source": [
    "def normal(gen, m, std):\n",
    "    while True:\n",
    "        yield stats.norm.ppf(next(gen), m, std)\n",
    "\n",
    "normal_gen = normal(mcm_gen, M, S)\n",
    "normal_vals = [next(normal_gen) for _ in range(N)]\n",
    "\n",
    "sample_mean = np.mean(normal_vals)\n",
    "sample_var = np.var(normal_vals) * N / (N - 1)\n",
    "print('Sample mean:', sample_mean)\n",
    "print('Sample variance:', sample_var)\n",
    "\n",
    "print('Expected mean:', M)\n",
    "print('Expected variance:', S**2)"
   ]
  },
  {
   "attachments": {},
   "cell_type": "markdown",
   "metadata": {},
   "source": [
    "Chi square distribution"
   ]
  },
  {
   "cell_type": "code",
   "execution_count": 51,
   "metadata": {},
   "outputs": [
    {
     "name": "stdout",
     "output_type": "stream",
     "text": [
      "Sample mean: 4.046113590686566\n",
      "Sample variance: 8.248602943071452\n",
      "Expected mean: 4\n",
      "Expected variance: 8\n"
     ]
    }
   ],
   "source": [
    "def chi_square(gen, df):\n",
    "    while True:\n",
    "        yield stats.chi2.ppf(next(gen),df)\n",
    "\n",
    "chi2_gen = chi_square(mcm_gen, df)\n",
    "chi2_vals = [next(chi2_gen) for _ in range(N)]\n",
    "\n",
    "sample_mean = np.mean(chi_vals)\n",
    "sample_var = np.var(chi_vals) * N / (N - 1)\n",
    "print('Sample mean:', sample_mean)\n",
    "print('Sample variance:', sample_var)\n",
    "\n",
    "print('Expected mean:', df)\n",
    "print('Expected variance:', df*2)"
   ]
  },
  {
   "attachments": {},
   "cell_type": "markdown",
   "metadata": {},
   "source": [
    "Sudent distribution"
   ]
  },
  {
   "cell_type": "code",
   "execution_count": 52,
   "metadata": {},
   "outputs": [
    {
     "name": "stdout",
     "output_type": "stream",
     "text": [
      "Sample mean: 0.019964858814899195\n",
      "Sample variance: 1.4215956195500268\n",
      "Expected mean: 0\n",
      "Expected variance: 1.5\n"
     ]
    }
   ],
   "source": [
    "import math\n",
    "\n",
    "def student(gen, m):\n",
    "    while True:\n",
    "        yield stats.t.ppf(next(gen),m)\n",
    "\n",
    "student_gen = student(mcm_gen, m)\n",
    "student_vals = [next(student_gen) for _ in range(N)]\n",
    "\n",
    "sample_mean = np.mean(student_vals)\n",
    "sample_var = np.var(student_vals) * N / (N - 1)\n",
    "print('Sample mean:', sample_mean)\n",
    "print('Sample variance:', sample_var)\n",
    "\n",
    "\n",
    "print('Expected mean:', 0)\n",
    "print('Expected variance:', m/(m-2))"
   ]
  },
  {
   "cell_type": "code",
   "execution_count": 53,
   "metadata": {},
   "outputs": [],
   "source": [
    "def kolmogorov_criterion(gen, cdf = stats.uniform.cdf, number_of_samples = N):\n",
    "    return stats.kstest([next(gen) for _ in range(number_of_samples)], cdf)"
   ]
  },
  {
   "cell_type": "code",
   "execution_count": 54,
   "metadata": {},
   "outputs": [
    {
     "name": "stdout",
     "output_type": "stream",
     "text": [
      "Kolmogorov criterion for normal distribution with mean = 0 and std = 3:\n",
      "KstestResult(statistic=0.03231728673353795, pvalue=0.24195363027077132, statistic_location=2.154597102170484, statistic_sign=1)\n",
      "\n",
      "Checking if significance level tends to 0.05:\n"
     ]
    },
    {
     "name": "stderr",
     "output_type": "stream",
     "text": [
      "100%|██████████| 1000/1000 [01:39<00:00, 10.08it/s]"
     ]
    },
    {
     "name": "stdout",
     "output_type": "stream",
     "text": [
      "Approximate significance level: 0.054\n"
     ]
    },
    {
     "name": "stderr",
     "output_type": "stream",
     "text": [
      "\n"
     ]
    }
   ],
   "source": [
    "from tqdm import trange\n",
    "\n",
    "normal_cdf = lambda x: stats.norm.cdf(x, M, S)\n",
    "\n",
    "print(f'Kolmogorov criterion for normal distribution with mean = {M} and std = {S}:')\n",
    "print(kolmogorov_criterion(normal_gen, normal_cdf))\n",
    "\n",
    "print('\\nChecking if significance level tends to 0.05:')\n",
    "NUMBER_OF_TESTS = 1000\n",
    "number_of_errors = 0\n",
    "for i in trange(NUMBER_OF_TESTS):\n",
    "    if kolmogorov_criterion(normal_gen, normal_cdf).pvalue < 0.05:\n",
    "        number_of_errors += 1\n",
    "print('Approximate significance level:', number_of_errors / NUMBER_OF_TESTS)"
   ]
  },
  {
   "cell_type": "code",
   "execution_count": 55,
   "metadata": {},
   "outputs": [
    {
     "name": "stdout",
     "output_type": "stream",
     "text": [
      "Kolmogorov criterion for chi2 distribution with degrees of freedom = 4:\n",
      "KstestResult(statistic=0.03672031651809804, pvalue=0.1315201906983986, statistic_location=4.218205294574568, statistic_sign=-1)\n",
      "\n",
      "Checking if significance level tends to 0.05:\n"
     ]
    },
    {
     "name": "stderr",
     "output_type": "stream",
     "text": [
      "100%|██████████| 1000/1000 [01:50<00:00,  9.04it/s]"
     ]
    },
    {
     "name": "stdout",
     "output_type": "stream",
     "text": [
      "Approximate significance level: 0.041\n"
     ]
    },
    {
     "name": "stderr",
     "output_type": "stream",
     "text": [
      "\n"
     ]
    }
   ],
   "source": [
    "chi2_cdf = lambda x: stats.chi2.cdf(x, df)\n",
    "\n",
    "print(f'Kolmogorov criterion for chi2 distribution with degrees of freedom = {df}:')\n",
    "print(kolmogorov_criterion(chi2_gen, chi2_cdf))\n",
    "\n",
    "print('\\nChecking if significance level tends to 0.05:')\n",
    "number_of_errors = 0\n",
    "for i in trange(NUMBER_OF_TESTS):\n",
    "    if kolmogorov_criterion(chi2_gen, chi2_cdf).pvalue < 0.05:\n",
    "        number_of_errors += 1\n",
    "print('Approximate significance level:', number_of_errors / NUMBER_OF_TESTS)"
   ]
  },
  {
   "cell_type": "code",
   "execution_count": 56,
   "metadata": {},
   "outputs": [
    {
     "name": "stdout",
     "output_type": "stream",
     "text": [
      "Kolmogorov criterion for student distribution with m = 6\n",
      "KstestResult(statistic=0.02741459174082972, pvalue=0.43231061959314165, statistic_location=0.28554339534752177, statistic_sign=1)\n",
      "\n",
      "Checking if significance level tends to 0.05:\n"
     ]
    },
    {
     "name": "stderr",
     "output_type": "stream",
     "text": [
      "100%|██████████| 1000/1000 [02:01<00:00,  8.24it/s]"
     ]
    },
    {
     "name": "stdout",
     "output_type": "stream",
     "text": [
      "Approximate significance level: 0.047\n"
     ]
    },
    {
     "name": "stderr",
     "output_type": "stream",
     "text": [
      "\n"
     ]
    }
   ],
   "source": [
    "student_cdf = lambda x: stats.t.cdf(x, m)\n",
    "\n",
    "print(f'Kolmogorov criterion for student distribution with m = {m}')\n",
    "print(kolmogorov_criterion(student_gen, student_cdf))\n",
    "\n",
    "print('\\nChecking if significance level tends to 0.05:')\n",
    "number_of_errors = 0\n",
    "for i in trange(NUMBER_OF_TESTS):\n",
    "    if kolmogorov_criterion(student_gen, student_cdf).pvalue < 0.05:\n",
    "        number_of_errors += 1\n",
    "print('Approximate significance level:', number_of_errors / NUMBER_OF_TESTS)"
   ]
  },
  {
   "cell_type": "code",
   "execution_count": 57,
   "metadata": {},
   "outputs": [],
   "source": [
    "import math\n",
    "\n",
    "NUMBER_OF_BINS = 100\n",
    "\n",
    "def chisquare_criterion(gen, min_val, max_val, cdf):\n",
    "    bin_counts = [0] * (NUMBER_OF_BINS + 2)\n",
    "    segment = (max_val - min_val) / NUMBER_OF_BINS\n",
    "\n",
    "    for i in range(N):\n",
    "        gen_number = next(gen)\n",
    "        if gen_number < min_val:\n",
    "            bin_counts[0] += 1\n",
    "        elif gen_number > max_val:\n",
    "            bin_counts[-1] += 1\n",
    "        else:\n",
    "            bin_ind = math.floor((gen_number - min_val) / segment)\n",
    "            bin_counts[bin_ind + 1] += 1\n",
    "\n",
    "    exp_probs = [0] * (NUMBER_OF_BINS + 2)\n",
    "    exp_probs[0] = cdf(min_val)\n",
    "    exp_probs[-1] = 1. - cdf(max_val)\n",
    "\n",
    "    for i in range(NUMBER_OF_BINS):\n",
    "        exp_probs[i + 1] = cdf(min_val + (i + 1) * segment) - cdf(min_val + i * segment)\n",
    "\n",
    "    for i in range(len(exp_probs)):\n",
    "        exp_probs[i] *= N\n",
    "\n",
    "    return stats.chisquare(bin_counts, exp_probs)"
   ]
  },
  {
   "cell_type": "code",
   "execution_count": 58,
   "metadata": {},
   "outputs": [
    {
     "name": "stdout",
     "output_type": "stream",
     "text": [
      "Chisquare criterion for normal distribution with mean = 0 and std = 3:\n",
      "Power_divergenceResult(statistic=96.73476760094458, pvalue=0.6015406012773878)\n",
      "\n",
      "Checking if significance level tends to 0.05:\n"
     ]
    },
    {
     "name": "stderr",
     "output_type": "stream",
     "text": [
      "100%|██████████| 1000/1000 [02:13<00:00,  7.48it/s]"
     ]
    },
    {
     "name": "stdout",
     "output_type": "stream",
     "text": [
      "Approximate significance level: 0.062\n"
     ]
    },
    {
     "name": "stderr",
     "output_type": "stream",
     "text": [
      "\n"
     ]
    }
   ],
   "source": [
    "min_val = M - S\n",
    "max_val = M + S\n",
    "\n",
    "print(f'Chisquare criterion for normal distribution with mean = {M} and std = {S}:')\n",
    "print(chisquare_criterion(normal_gen, min_val, max_val, normal_cdf))\n",
    "\n",
    "print('\\nChecking if significance level tends to 0.05:')\n",
    "number_of_errors = 0\n",
    "for i in trange(NUMBER_OF_TESTS):\n",
    "    if chisquare_criterion(normal_gen, min_val, max_val, normal_cdf).pvalue < 0.05:\n",
    "        number_of_errors += 1\n",
    "print('Approximate significance level:', number_of_errors / NUMBER_OF_TESTS)"
   ]
  },
  {
   "cell_type": "code",
   "execution_count": 61,
   "metadata": {},
   "outputs": [
    {
     "name": "stdout",
     "output_type": "stream",
     "text": [
      "Chisquare criterion for chi2 distribution with df = 4:\n",
      "Power_divergenceResult(statistic=64.91976534555602, pvalue=0.9979926013755582)\n",
      "\n",
      "Checking if significance level tends to 0.05:\n"
     ]
    },
    {
     "name": "stderr",
     "output_type": "stream",
     "text": [
      "100%|██████████| 1000/1000 [02:28<00:00,  6.73it/s]"
     ]
    },
    {
     "name": "stdout",
     "output_type": "stream",
     "text": [
      "Approximate significance level: 0.053\n"
     ]
    },
    {
     "name": "stderr",
     "output_type": "stream",
     "text": [
      "\n"
     ]
    }
   ],
   "source": [
    "min_val = 1\n",
    "max_val = 8\n",
    "\n",
    "print(f'Chisquare criterion for chi2 distribution with df = {df}:')\n",
    "print(chisquare_criterion(chi2_gen, min_val, max_val, chi2_cdf))\n",
    "\n",
    "print('\\nChecking if significance level tends to 0.05:')\n",
    "number_of_errors = 0\n",
    "for i in trange(NUMBER_OF_TESTS):\n",
    "    if chisquare_criterion(chi2_gen, min_val, max_val, chi2_cdf).pvalue < 0.05:\n",
    "        number_of_errors += 1\n",
    "print('Approximate significance level:', number_of_errors / NUMBER_OF_TESTS)"
   ]
  },
  {
   "cell_type": "code",
   "execution_count": 60,
   "metadata": {},
   "outputs": [
    {
     "name": "stdout",
     "output_type": "stream",
     "text": [
      "Chisquare criterion for student distribution with m = 6:\n",
      "Power_divergenceResult(statistic=89.49080748614433, pvalue=0.7868023826521545)\n",
      "\n",
      "Checking if significance level tends to 0.05:\n"
     ]
    },
    {
     "name": "stderr",
     "output_type": "stream",
     "text": [
      "100%|██████████| 1000/1000 [02:19<00:00,  7.19it/s]"
     ]
    },
    {
     "name": "stdout",
     "output_type": "stream",
     "text": [
      "Approximate significance level: 0.093\n"
     ]
    },
    {
     "name": "stderr",
     "output_type": "stream",
     "text": [
      "\n"
     ]
    }
   ],
   "source": [
    "min_val = -5\n",
    "max_val = 5\n",
    "\n",
    "print(f'Chisquare criterion for student distribution with m = {m}:')\n",
    "print(chisquare_criterion(student_gen, min_val, max_val, student_cdf))\n",
    "\n",
    "print('\\nChecking if significance level tends to 0.05:')\n",
    "number_of_errors = 0\n",
    "for i in trange(NUMBER_OF_TESTS):\n",
    "    if chisquare_criterion(student_gen, min_val, max_val, student_cdf).pvalue < 0.05:\n",
    "        number_of_errors += 1\n",
    "print('Approximate significance level:', number_of_errors / NUMBER_OF_TESTS)"
   ]
  },
  {
   "cell_type": "code",
   "execution_count": null,
   "metadata": {},
   "outputs": [],
   "source": []
  }
 ],
 "metadata": {
  "kernelspec": {
   "display_name": "Python 3 (ipykernel)",
   "language": "python",
   "name": "python3"
  },
  "language_info": {
   "codemirror_mode": {
    "name": "ipython",
    "version": 3
   },
   "file_extension": ".py",
   "mimetype": "text/x-python",
   "name": "python",
   "nbconvert_exporter": "python",
   "pygments_lexer": "ipython3",
   "version": "3.10.11"
  },
  "orig_nbformat": 4,
  "vscode": {
   "interpreter": {
    "hash": "cba6c5dd20f9b7db6fbc73e5fccd6c5279d6a3e035ea75320c612dcf23190ad1"
   }
  }
 },
 "nbformat": 4,
 "nbformat_minor": 2
}
