{
 "cells": [
  {
   "attachments": {},
   "cell_type": "markdown",
   "metadata": {},
   "source": [
    "1. Бернулли – Bi(1,p), p = 0.7; Биномиальное – Bi(m,p), m = 5, p = 0.25;"
   ]
  },
  {
   "cell_type": "code",
   "execution_count": 1,
   "metadata": {},
   "outputs": [],
   "source": [
    "import matplotlib.pyplot as plt\n",
    "%matplotlib inline\n",
    "\n",
    "N = 1000\n",
    "ALPHA0 = BETA = 131075\n",
    "K = 128\n",
    "M = 2**31\n",
    "EPS = 0.05\n",
    "P = 0.7\n",
    "LAMBDA = 0.5\n",
    "m = 5\n",
    "p = 0.25\n",
    "\n",
    "def MCM(alpha_t, beta, M):\n",
    "    while True:\n",
    "        alpha_t = (alpha_t * beta) % M\n",
    "        yield alpha_t / M\n",
    "mcm_gen = MCM(ALPHA0, BETA, M)"
   ]
  },
  {
   "cell_type": "code",
   "execution_count": 2,
   "metadata": {},
   "outputs": [
    {
     "data": {
      "text/plain": [
       "<BarContainer object of 2 artists>"
      ]
     },
     "execution_count": 2,
     "metadata": {},
     "output_type": "execute_result"
    },
    {
     "data": {
      "image/png": "[encoded data removed]",
      "text/plain": [
       "<Figure size 640x480 with 1 Axes>"
      ]
     },
     "metadata": {},
     "output_type": "display_data"
    }
   ],
   "source": [
    "from collections import Counter\n",
    "\n",
    "def bernoulli(gen, p):\n",
    "    while True:\n",
    "        if next(gen) >= p:\n",
    "            yield 0\n",
    "        else:\n",
    "            yield 1\n",
    "\n",
    "bernoulli_gen = bernoulli(mcm_gen, P)\n",
    "bernoulli_values = [next(bernoulli_gen) for _ in range(N)]\n",
    "bernoulli_cnt = Counter(bernoulli_values)\n",
    "\n",
    "plt.bar(list(bernoulli_cnt.keys()), list(bernoulli_cnt.values()))"
   ]
  },
  {
   "cell_type": "code",
   "execution_count": 3,
   "metadata": {},
   "outputs": [
    {
     "name": "stdout",
     "output_type": "stream",
     "text": [
      "Sample mean: 0.71\n",
      "Sample variance: 0.20589999999999997\n",
      "Expected mean: 0.7\n",
      "Expected variance: 0.21000000000000002\n"
     ]
    }
   ],
   "source": [
    "import numpy as np\n",
    "\n",
    "sample_mean = np.mean(bernoulli_values)\n",
    "sample_var = np.var(bernoulli_values)\n",
    "\n",
    "print('Sample mean:', sample_mean)\n",
    "print('Sample variance:', sample_var)\n",
    "\n",
    "exp_mean = P\n",
    "exp_var = P * (1 - P)\n",
    "print('Expected mean:', exp_mean)\n",
    "print('Expected variance:', exp_var)"
   ]
  },
  {
   "cell_type": "code",
   "execution_count": 4,
   "metadata": {},
   "outputs": [
    {
     "name": "stdout",
     "output_type": "stream",
     "text": [
      "Chisquare criterion for bernoulli: Power_divergenceResult(statistic=1.0714285714285656, pvalue=0.3006229881969051)\n"
     ]
    }
   ],
   "source": [
    "from scipy import stats\n",
    "\n",
    "def chisquare_criterion(gen, max_n, exp_probs):\n",
    "    bin_counts = [0] * max_n\n",
    "\n",
    "    for _ in range(N):\n",
    "        bin_number = next(gen)\n",
    "        bin_counts[bin_number] += 1\n",
    "\n",
    "    exp_counts = np.array(exp_probs) * N\n",
    "\n",
    "    return stats.chisquare(bin_counts, exp_counts)\n",
    "\n",
    "print(f'Chisquare criterion for bernoulli: {chisquare_criterion(bernoulli_gen, 2, [1 - P, P])}')"
   ]
  },
  {
   "cell_type": "code",
   "execution_count": 9,
   "metadata": {},
   "outputs": [
    {
     "name": "stderr",
     "output_type": "stream",
     "text": [
      "100%|██████████| 1000/1000 [00:00<00:00, 1976.06it/s]"
     ]
    },
    {
     "name": "stdout",
     "output_type": "stream",
     "text": [
      "0.058\n"
     ]
    },
    {
     "name": "stderr",
     "output_type": "stream",
     "text": [
      "\n"
     ]
    }
   ],
   "source": [
    "from tqdm import trange\n",
    "\n",
    "iterations_cnt = 1000\n",
    "errors_cnt = 0\n",
    "for i in trange(iterations_cnt):\n",
    "    errors_cnt += chisquare_criterion(bernoulli_gen, 2, [1 - P, P]).pvalue <= 0.05\n",
    "print(errors_cnt / iterations_cnt)"
   ]
  },
  {
   "cell_type": "code",
   "execution_count": 5,
   "metadata": {},
   "outputs": [
    {
     "data": {
      "text/plain": [
       "<BarContainer object of 6 artists>"
      ]
     },
     "execution_count": 5,
     "metadata": {},
     "output_type": "execute_result"
    },
    {
     "data": {
      "image/png": "[encoded data removed]",
      "text/plain": [
       "<Figure size 640x480 with 1 Axes>"
      ]
     },
     "metadata": {},
     "output_type": "display_data"
    }
   ],
   "source": [
    "from collections import Counter\n",
    "\n",
    "def binomial(gen, m0, p0):\n",
    "    while True:\n",
    "        cur_from_gen = next(gen)\n",
    "        for i in range(m0 + 1):\n",
    "            if stats.binom.cdf(i, m0, p0) > cur_from_gen:\n",
    "                yield i\n",
    "                break\n",
    "\n",
    "binomial_gen = binomial(mcm_gen, m, p)\n",
    "binomial_values = [next(binomial_gen) for _ in range(N)]\n",
    "binomial_cnt = Counter(binomial_values)\n",
    "\n",
    "plt.bar(list(binomial_cnt.keys()), list(binomial_cnt.values()))"
   ]
  },
  {
   "cell_type": "code",
   "execution_count": 6,
   "metadata": {},
   "outputs": [
    {
     "name": "stdout",
     "output_type": "stream",
     "text": [
      "Sample mean: 1.243\n",
      "Sample variance: 0.935951\n",
      "Expected mean: 1.25\n",
      "Expected variance: 0.9375\n"
     ]
    }
   ],
   "source": [
    "sample_mean = np.mean(binomial_values)\n",
    "sample_var = np.var(binomial_values)\n",
    "\n",
    "print('Sample mean:', sample_mean)\n",
    "print('Sample variance:', sample_var)\n",
    "\n",
    "exp_mean = m*p\n",
    "exp_var = m*p*(1-p)\n",
    "print('Expected mean:', exp_mean)\n",
    "print('Expected variance:', exp_var)"
   ]
  },
  {
   "cell_type": "code",
   "execution_count": 10,
   "metadata": {},
   "outputs": [
    {
     "name": "stderr",
     "output_type": "stream",
     "text": [
      "100%|██████████| 1000/1000 [03:10<00:00,  5.24it/s]"
     ]
    },
    {
     "name": "stdout",
     "output_type": "stream",
     "text": [
      "0.056\n"
     ]
    },
    {
     "name": "stderr",
     "output_type": "stream",
     "text": [
      "\n"
     ]
    }
   ],
   "source": [
    "iterations_cnt = 1000\n",
    "errors_cnt = 0\n",
    "expected_probs = [stats.binom.pmf(i, m, p) for i in range(m + 1)]\n",
    "for i in trange(iterations_cnt):\n",
    "    errors_cnt += chisquare_criterion(binomial_gen, m + 1, expected_probs).pvalue <= 0.05\n",
    "print(errors_cnt / iterations_cnt)"
   ]
  },
  {
   "cell_type": "code",
   "execution_count": 11,
   "metadata": {},
   "outputs": [
    {
     "name": "stdout",
     "output_type": "stream",
     "text": [
      "Chisquare criterion for binomial: Power_divergenceResult(statistic=7.606307818930092, pvalue=0.17930915403106593)\n"
     ]
    }
   ],
   "source": [
    "print(f'Chisquare criterion for binomial: {chisquare_criterion(binomial_gen, m + 1, expected_probs)}')"
   ]
  },
  {
   "cell_type": "code",
   "execution_count": null,
   "metadata": {},
   "outputs": [],
   "source": []
  }
 ],
 "metadata": {
  "kernelspec": {
   "display_name": "Python 3 (ipykernel)",
   "language": "python",
   "name": "python3"
  },
  "language_info": {
   "codemirror_mode": {
    "name": "ipython",
    "version": 3
   },
   "file_extension": ".py",
   "mimetype": "text/x-python",
   "name": "python",
   "nbconvert_exporter": "python",
   "pygments_lexer": "ipython3",
   "version": "3.10.11"
  },
  "orig_nbformat": 4,
  "vscode": {
   "interpreter": {
    "hash": "cba6c5dd20f9b7db6fbc73e5fccd6c5279d6a3e035ea75320c612dcf23190ad1"
   }
  }
 },
 "nbformat": 4,
 "nbformat_minor": 2
}
